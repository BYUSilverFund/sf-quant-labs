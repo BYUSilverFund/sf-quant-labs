{
 "cells": [
  {
   "cell_type": "markdown",
   "id": "a4c395c4",
   "metadata": {},
   "source": [
    "# Lab. 3: Momentum I\n",
    "\n",
    "In this lab we will explore the signal research proccess with the classic Jegadeesh and Titman momentum signal.\n",
    "\n",
    "We will explore:\n",
    "- How to compute signals with point in time compliance in mind.\n",
    "- The need to filter out low priced securities.\n",
    "- How to create decile and spread portfolios.\n",
    "- Strategy performance metrics."
   ]
  },
  {
   "cell_type": "markdown",
   "id": "cf5bb9f8",
   "metadata": {},
   "source": [
    "## Imports"
   ]
  },
  {
   "cell_type": "code",
   "execution_count": null,
   "id": "d15a5294",
   "metadata": {},
   "outputs": [],
   "source": [
    "import sf_quant.data as sfd\n",
    "import polars as pl\n",
    "import datetime as dt\n",
    "import numpy as np\n",
    "import matplotlib.pyplot as plt\n",
    "import seaborn as sns"
   ]
  },
  {
   "cell_type": "markdown",
   "id": "497c9e9a",
   "metadata": {},
   "source": [
    "## Data\n",
    "\n",
    "We will be looking at our investment universe from 1996 to 2024.\n",
    "\n",
    "This should take around 10 seconds to run."
   ]
  },
  {
   "cell_type": "code",
   "execution_count": null,
   "id": "84e358e5",
   "metadata": {},
   "outputs": [],
   "source": [
    "start = dt.date(1996, 1, 1)\n",
    "end = dt.date(2024, 12, 31)\n",
    "\n",
    "columns = [\n",
    "    'date',\n",
    "    'barrid',\n",
    "    'ticker',\n",
    "    'price',\n",
    "    'return',\n",
    "    'market_cap'\n",
    "]\n",
    "\n",
    "data = sfd.load_assets(\n",
    "    start=start,\n",
    "    end=end,\n",
    "    in_universe=True,\n",
    "    columns=columns\n",
    ")\n",
    "\n",
    "data"
   ]
  },
  {
   "cell_type": "markdown",
   "id": "ca6c6623",
   "metadata": {},
   "source": [
    "## Compute the Momentum Signal\n",
    "\n",
    "## Instructions\n",
    "\n",
    "- Compute momentum for each security and date as the rolling 230 day return (you can just use log returns here).\n",
    "- Shift the momentum signal 22 days. This will results in the 11 month return from t-12 to t-2."
   ]
  },
  {
   "cell_type": "code",
   "execution_count": null,
   "id": "1e51eeb5",
   "metadata": {},
   "outputs": [],
   "source": [
    "def task_compute_momentum(data: pl.DataFrame) -> pl.DataFrame:\n",
    "    \"\"\"\n",
    "    Compute the t_12 to t_2 momentum signal for each secrutiy and date combination.\n",
    "    \n",
    "    Args:\n",
    "        data (pl.DataFrame): Data frame containing date, barrid, price, and return columns.\n",
    "    \n",
    "    Returns:\n",
    "        pl.DataFrame: Data frame with columns date, barrid, price, return, and momentum columns.\n",
    "    \"\"\"\n",
    "    \n",
    "    # TODO: Finish this function\n",
    "    pass\n",
    "\n",
    "momentum = task_compute_momentum(data)\n",
    "\n",
    "momentum"
   ]
  },
  {
   "cell_type": "markdown",
   "id": "b1a76bdb",
   "metadata": {},
   "source": [
    "## Price and Momentum Filter\n",
    "\n",
    "When doing backtesting strategies it's helpful to drop securities with a price below $5.\n",
    "\n",
    "- Create a variable price_lag that is the previous days price for each security.\n",
    "- Filter securities to ones with a lagged price greater than 5.\n",
    "- Drop null momentum values since we won't trade securities where we don't have a signal."
   ]
  },
  {
   "cell_type": "code",
   "execution_count": null,
   "id": "cc25f78d",
   "metadata": {},
   "outputs": [],
   "source": [
    "def task_price_filter(momentum: pl.DataFrame) -> pl.DataFrame:\n",
    "    \"\"\"\n",
    "    Filter the universe to lagged price greater than 5 and non-null momentum.\n",
    "    \n",
    "    Args:\n",
    "        momentum (pl.DataFrame): Data frame with columns date, barrid, price, return, and momentum columns.\n",
    "    \n",
    "    Returns:\n",
    "        pl.DataFrame: Data frame with columns date, barrid, price, return, and momentum columns.\n",
    "    \"\"\"\n",
    "    # TODO: Finish this function\n",
    "    pass\n",
    "\n",
    "price_filter = task_price_filter(momentum)\n",
    "\n",
    "price_filter"
   ]
  },
  {
   "cell_type": "markdown",
   "id": "0f57efb4",
   "metadata": {},
   "source": [
    "## Create Decile Portfolios\n",
    "\n",
    "### Instructions\n",
    "\n",
    "- For each date divide all securities into 10 deciles based on their momentum score. The highest momentum securities should be in bin 9 and the lowest momentum securities should be in bin 0. The `.qcut()` expression will be helpful here.\n"
   ]
  },
  {
   "cell_type": "code",
   "execution_count": null,
   "id": "54930877",
   "metadata": {},
   "outputs": [],
   "source": [
    "def task_momentum_bins(price_filter: pl.DataFrame) -> pl.DataFrame:\n",
    "    \"\"\"\n",
    "    Bin the securities into deciles for each date by momentum.\n",
    "    \n",
    "    Args:\n",
    "        price_filter (pl.DataFrame): Data frame with columns date, barrid, price, return, and momentum columns.\n",
    "    \n",
    "    Returns:\n",
    "        pl.DataFrame: Data frame with columns date, barrid, price, return, momentum and bin columns.\n",
    "    \"\"\"\n",
    "    # TODO: Finish this function\n",
    "    pass\n",
    "\n",
    "momentum_bins = task_momentum_bins(price_filter)\n",
    "\n",
    "momentum_bins"
   ]
  },
  {
   "cell_type": "markdown",
   "id": "aba76a48",
   "metadata": {},
   "source": [
    "## Equal Weight Portfolios\n",
    "\n",
    "For each date and bin combo compute the equal weight return.\n",
    "\n",
    "### Instructions\n",
    "- Use `.group_by()` to find the average return for each decile on each date.\n",
    "- Pivot the data frame into index=date, columns=bins, and values=returns (`.pivot()`)\n",
    "- Compute the spread portfolio as the return of bin 9 minus the return of bin 0"
   ]
  },
  {
   "cell_type": "code",
   "execution_count": null,
   "id": "f0185310",
   "metadata": {},
   "outputs": [],
   "source": [
    "def task_equal_weight_portfolios(momentum_bins: pl.DataFrame) -> pl.DataFrame:\n",
    "    \"\"\"\n",
    "    Compute the equal weight return for each bin on each date.\n",
    "    \n",
    "    Args:\n",
    "        momentum_bins (pl.DataFrame): Data frame with columns date, barrid, price, return, momentum, and bin columns.\n",
    "    \n",
    "    Returns:\n",
    "        pl.DataFrame: Data frame with date as the index, bins as the columns, and returns as the values.\n",
    "    \"\"\"\n",
    "    # TODO: Finish this function\n",
    "    pass\n",
    "\n",
    "momentum_portfolios = task_equal_weight_portfolios(momentum_bins)\n",
    "\n",
    "momentum_portfolios"
   ]
  },
  {
   "cell_type": "markdown",
   "id": "aee5d3c0",
   "metadata": {},
   "source": [
    "## Portfolio Returns\n",
    "\n",
    "Compute the cumulative returns of each bin.\n",
    "\n",
    "### Instructions\n",
    "- Use the `.unpivot()` method to put our data frame back into long format.\n",
    "- Compute the cumulative log return.\n",
    "- Put the return columns into percent space by multiplying by 100."
   ]
  },
  {
   "cell_type": "code",
   "execution_count": null,
   "id": "bcbe8423",
   "metadata": {},
   "outputs": [],
   "source": [
    "def task_cumulative_returns(momentum_portfolios: pl.DataFrame) -> pl.DataFrame:\n",
    "    \"\"\"\n",
    "    Compute the equal weight return for each bin on each date.\n",
    "    \n",
    "    Args:\n",
    "        momentum_portfolios (pl.DataFrame): Data frame with columns date, barrid, price, return, momentum, and bin columns.\n",
    "    \n",
    "    Returns:\n",
    "        pl.DataFrame: Data frame with date, bin, return, and cumulative_log_return columns.\n",
    "    \"\"\"\n",
    "    # TODO: Finish this function\n",
    "    pass\n",
    "\n",
    "momentum_returns = task_cumulative_returns(momentum_portfolios)\n",
    "\n",
    "momentum_returns"
   ]
  },
  {
   "cell_type": "markdown",
   "id": "2ad6efdb",
   "metadata": {},
   "source": [
    "## Performance Analysis\n",
    "\n",
    "### Instructions\n",
    "- Chart the cumulative log returns of the 10 decile portfolios and the spread portfolio.\n",
    "- Create a table with average daily return (annualized), volatility (annualized), and sharpe ratio (annualized) for each portfolio."
   ]
  },
  {
   "cell_type": "code",
   "execution_count": null,
   "id": "e37a1f38",
   "metadata": {},
   "outputs": [],
   "source": [
    "# TODO: Chart the cumulative log returns of each portfolio."
   ]
  },
  {
   "cell_type": "code",
   "execution_count": null,
   "id": "bd07d426",
   "metadata": {},
   "outputs": [],
   "source": [
    "# TODO: Create a table of summary metrics"
   ]
  },
  {
   "cell_type": "code",
   "execution_count": null,
   "id": "9d6f8a97",
   "metadata": {},
   "outputs": [],
   "source": []
  }
 ],
 "metadata": {
  "kernelspec": {
   "display_name": "sf-quant-labs (3.11.10)",
   "language": "python",
   "name": "python3"
  },
  "language_info": {
   "codemirror_mode": {
    "name": "ipython",
    "version": 3
   },
   "file_extension": ".py",
   "mimetype": "text/x-python",
   "name": "python",
   "nbconvert_exporter": "python",
   "pygments_lexer": "ipython3",
   "version": "3.11.10"
  }
 },
 "nbformat": 4,
 "nbformat_minor": 5
}
