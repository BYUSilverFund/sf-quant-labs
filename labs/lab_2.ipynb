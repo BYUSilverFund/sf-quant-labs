{
 "cells": [
  {
   "cell_type": "markdown",
   "id": "09dc5a1e",
   "metadata": {},
   "source": [
    "# Lab 2: Portfolio Optimization\n",
    "\n",
    "In this lab we will explore:\n",
    "- How to compute the return of a portfolio of assets.\n",
    "- How to compute the volatility of a portfolio of assets.\n",
    "- How to optimize a portfolio."
   ]
  },
  {
   "cell_type": "markdown",
   "id": "96afd943",
   "metadata": {},
   "source": [
    "## Imports\n",
    "\n",
    "In this lab we use the following new packages:\n",
    "- `cvxpy`: Used for convex optimization and quadratic programming.\n",
    "- `numpy`: Useful for matrix opperations.\n",
    "- `matplotlib`: Plotting library.\n",
    "- `seaborn`: A wrapper for `matplotlib` that makes charting a little easier."
   ]
  },
  {
   "cell_type": "code",
   "execution_count": null,
   "id": "1e9d466c",
   "metadata": {},
   "outputs": [],
   "source": [
    "import sf_quant.data as sfd\n",
    "import sf_quant.optimizer as sfo\n",
    "import polars as pl\n",
    "import datetime as dt\n",
    "import cvxpy as cp\n",
    "import numpy as np\n",
    "import matplotlib.pyplot as plt\n",
    "import seaborn as sns"
   ]
  },
  {
   "cell_type": "markdown",
   "id": "24e3d050",
   "metadata": {},
   "source": [
    "## Data\n",
    "\n",
    "Here we pull daily returns for Apple, Ford, Verizon, and Coke."
   ]
  },
  {
   "cell_type": "code",
   "execution_count": null,
   "id": "2adc3a93",
   "metadata": {},
   "outputs": [],
   "source": [
    "start = dt.date(2024, 1, 1)\n",
    "end = dt.date(2024, 12, 31)\n",
    "\n",
    "in_sample = [start, dt.date(2024, 5, 31)]\n",
    "out_of_sample = [dt.date(2024, 6, 1), end]\n",
    "\n",
    "columns = [\n",
    "    'date',\n",
    "    'barrid',\n",
    "    'ticker',\n",
    "    'return'\n",
    "]\n",
    "\n",
    "tickers = sorted(['AAPL', 'F', 'VZ', 'K'])\n",
    "\n",
    "returns = (\n",
    "        sfd.load_assets(\n",
    "        start=start,\n",
    "        end=end,\n",
    "        in_universe=True,\n",
    "        columns=columns\n",
    "    )\n",
    "    .filter(\n",
    "        pl.col('ticker').is_in(tickers)\n",
    "    )\n",
    "    .with_columns(\n",
    "        pl.col('return').truediv(100)\n",
    "    )\n",
    ")\n",
    "\n",
    "returns"
   ]
  },
  {
   "cell_type": "markdown",
   "id": "2be7a222",
   "metadata": {},
   "source": [
    "## Expected Returns Forecast\n",
    "\n",
    "In practice we will forecast returns using a combination of signal forecasts, but for demonstration purposes we will just use the average historical returns as our expected returns forecast.\n",
    "\n",
    "### Instructions\n",
    "1. Create a expected returns vector for the `in_sample` period (it should be 1x4)"
   ]
  },
  {
   "cell_type": "code",
   "execution_count": null,
   "id": "b87ea5e3",
   "metadata": {},
   "outputs": [],
   "source": [
    "def expected_returns_task(returns: pl.DataFrame) -> np.array:\n",
    "    \"\"\"\n",
    "    Compute the average daily return of each asset for the in_sample period.\n",
    "\n",
    "    Args:\n",
    "        returns (pl.DataFrame): a data frame containing date, ticker, and return columns\n",
    "\n",
    "    Returns:\n",
    "        np.array: a numpy array (1x4) with an entry for the average return of each ticker (sorted alphabetically by ticker)\n",
    "    \"\"\"\n",
    "\n",
    "    # TODO: Finish function\n",
    "    pass\n",
    "\n",
    "er_vector = expected_returns_task(returns)\n",
    "\n",
    "er_vector"
   ]
  },
  {
   "cell_type": "markdown",
   "id": "66a092f1",
   "metadata": {},
   "source": [
    "## Covariance Matrix Forecast\n",
    "\n",
    "In practice we will use forecasted covariance matrices from Barra, but for demonstration purposes we will use the historical covariance matrix as our forecast.\n",
    "\n",
    "### Instructions\n",
    "\n",
    "1. Create the covariance matrix using returns from the `in_sample` period."
   ]
  },
  {
   "cell_type": "code",
   "execution_count": null,
   "id": "18ae227a",
   "metadata": {},
   "outputs": [],
   "source": [
    "def covariance_matrix_task(returns: pl.DataFrame) -> np.array:\n",
    "    \"\"\"\n",
    "    Compute the historical covariance matrix using the returns from the in_sample period.\n",
    "\n",
    "    Args:\n",
    "        returns (pl.DataFrame): a data frame containing date, ticker, and return columns\n",
    "\n",
    "    Returns:\n",
    "        np.array: a numpy array (4x4) containing the covariances of the assets (columns and rows are sorted alphabetically by ticker)\n",
    "    \"\"\"\n",
    "\n",
    "    # TODO: Finish function\n",
    "    pass\n",
    "\n",
    "cov_mat = covariance_matrix_task(returns)\n",
    "\n",
    "cov_mat"
   ]
  },
  {
   "cell_type": "markdown",
   "id": "63f76a38",
   "metadata": {},
   "source": [
    "## Mean Variance Optimization\n",
    "\n",
    "In order to determine how much of our portfolio to invest in each assset, we will use mean variance optimization to determine the maximum sharpe ratio portfolio.\n",
    "\n",
    "### Instructions\n",
    "1. Create the objective function for the `cp.Problem`\n",
    "\n",
    "utility = portfolio_return - 0.5 * gamma * portfolio_variance\n",
    "\n",
    "2. Constrain the problem such that\n",
    "- Weights sum to 1 (full investment)\n",
    "- Weights are greater than 0 (long only)\n",
    "- Weights are less than 1 (no buying on margin)\n",
    "\n",
    "3. Find the optimal portfolio weights by solving the `cp.Problem`"
   ]
  },
  {
   "cell_type": "code",
   "execution_count": null,
   "id": "60f9aaf9",
   "metadata": {},
   "outputs": [],
   "source": [
    "def optimization_task(tickers: list[str], er_vector: np.array, cov_mat: np.array) -> pl.DataFrame:\n",
    "    \"\"\"\n",
    "    Compute the optimal weights of the portfolio given the expected returns forecast and the covariance matrix forecast.\n",
    "\n",
    "    Args:\n",
    "        ticker (list[str]): a list of tickers sorted alphabetically\n",
    "        er_vector (np.array): a numpy array (1x4) with an entry for the average return of each ticker (sorted alphabetically by ticker)\n",
    "        cov_mat (np.array): a numpy array (4x4) containing the covariances of the assets (columns and rows are sorted alphabetically by ticker)\n",
    "\n",
    "    Returns:\n",
    "        pl.DataFrame: a data frame with columns ticker and weight\n",
    "    \"\"\"\n",
    "\n",
    "    # TODO: Finish function\n",
    "    pass\n",
    "\n",
    "weights = optimization_task(tickers, er_vector, cov_mat)\n",
    "\n",
    "weights"
   ]
  },
  {
   "cell_type": "markdown",
   "id": "38cf04cf",
   "metadata": {},
   "source": [
    "## In Sample vs. Out of Sample Performance\n",
    "\n",
    "Now that we've identified the optimal weights let's see if our optimized portfolio outperforms a simple equal weighted portfolio.\n",
    "\n",
    "### Instructions\n",
    "1. Compute the baseline returns for the `out_of_sample` period by computing the equal weight returns for each period.\n",
    "2. Compute the optimized returns for the `out_of_sample` period by computing the weighted return of the portfolio for each period using our optimal weights.\n",
    "3. Plot the cumulative returns of each strategy in one chart.\n",
    "4. Compute the total return, average daily return (annualized), volatility (annualized), and sharpe ratio (annualized) for both strategies.\n",
    "5. Go back and try a handful of different `gamma` values in your optimizer and see how your performance results change.\n",
    "6. Write a few sentences commenting on the results."
   ]
  },
  {
   "cell_type": "code",
   "execution_count": null,
   "id": "c2e93067",
   "metadata": {},
   "outputs": [],
   "source": [
    "def baseline_returns_task(returns: pl.DataFrame) -> pl.DataFrame:\n",
    "    \"\"\"\n",
    "    Compute the average daily return of each asset for the out_of_sample period.\n",
    "\n",
    "    Args:\n",
    "        returns (pl.DataFrame): a data frame containing date, ticker, and return columns\n",
    "\n",
    "    Returns:\n",
    "        pl.DataFrame: a data frame containing date, return, and cumulative_return columns\n",
    "    \"\"\"\n",
    "\n",
    "    # TODO: Finish function\n",
    "    pass\n",
    "\n",
    "baseline_returns = baseline_returns_task(returns)"
   ]
  },
  {
   "cell_type": "code",
   "execution_count": null,
   "id": "e0bbae69",
   "metadata": {},
   "outputs": [],
   "source": [
    "def optimized_returns_task(returns: pl.DataFrame, weights: pl.DataFrame) -> pl.DataFrame:\n",
    "    \"\"\"\n",
    "    Compute the average daily return of each asset for the out_of_sample period.\n",
    "\n",
    "    Args:\n",
    "        returns (pl.DataFrame): a data frame containing date, ticker, and return columns\n",
    "        weights (pl.DataFrame): a data frame with columns ticker and weight\n",
    "\n",
    "    Returns:\n",
    "        pl.DataFrame: a data frame containing date, return, and cumulative_return columns\n",
    "    \"\"\"\n",
    "\n",
    "    # TODO: Finish function\n",
    "    pass\n",
    "\n",
    "optimized_returns = optimized_returns_task(returns, weights)\n",
    "\n",
    "optimized_returns"
   ]
  },
  {
   "cell_type": "code",
   "execution_count": null,
   "id": "5e90c62e",
   "metadata": {},
   "outputs": [],
   "source": [
    "# TODO: Chart the baseline and optimized cumulative returns"
   ]
  },
  {
   "cell_type": "code",
   "execution_count": null,
   "id": "c5b75874",
   "metadata": {},
   "outputs": [],
   "source": [
    "# TODO: Compute the total_return, average_return, volatility, and sharpe for the baseline and optimized strategies"
   ]
  },
  {
   "cell_type": "markdown",
   "id": "8ebbce81",
   "metadata": {},
   "source": [
    "Comment here on the results that you have found."
   ]
  },
  {
   "cell_type": "markdown",
   "id": "a21e20b5",
   "metadata": {},
   "source": [
    "## `sf-quant` Optimizer Module\n",
    "\n",
    "What if I told you that you don't have to write out the optimization code by hand again? Wouldn't that be great? Lucky for you we've pre-built a module in the `sf-quant` package that provides abstracted functionality for portfolio optimization.\n",
    "\n",
    "### Instructions\n",
    "\n",
    "- Create a `list` of constraints including `FullInvestment`, `LongOnly`, and `NoBuyingOnMargin`.\n",
    "- Get the weights from the `sf_quant.optimizer.mve_optimizer` function using your previously computed returns forecast and covariance matrix.\n",
    "\n",
    "Note: you should get really similar weights to your previous results."
   ]
  },
  {
   "cell_type": "code",
   "execution_count": null,
   "id": "6bf4954d",
   "metadata": {},
   "outputs": [],
   "source": [
    "def task_sf_optimizer_weights(tickers: list[str], er_vector: np.ndarray, cov_mat: np.ndarray) -> pl.DataFrame:\n",
    "    \"\"\"\n",
    "    Compute the optimal weights of the portfolio given the expected returns forecast and the covariance matrix forecast.\n",
    "    Make sure to use the sf_quant package.\n",
    "\n",
    "    Args:\n",
    "        ticker (list[str]): a list of tickers sorted alphabetically\n",
    "        er_vector (np.array): a numpy array (1x4) with an entry for the average return of each ticker (sorted alphabetically by ticker)\n",
    "        cov_mat (np.array): a numpy array (4x4) containing the covariances of the assets (columns and rows are sorted alphabetically by ticker)\n",
    "\n",
    "    Returns:\n",
    "        pl.DataFrame: a data frame with columns ticker and weight\n",
    "    \"\"\"\n",
    "    \n",
    "    # TODO: Finish function\n",
    "    pass\n",
    "\n",
    "weights_sf = task_sf_optimizer_weights(tickers, er_vector, cov_mat)\n",
    "\n",
    "weights_sf"
   ]
  },
  {
   "cell_type": "markdown",
   "id": "2523972b",
   "metadata": {},
   "source": [
    "## Barra Covariance Matrix\n",
    "\n",
    "Now let's improve our portfolio by using a better forecast for the covariance matrix. We are very fortunate to have access to the MSCI Barra covariance matrix forecasts. In this task you will load the Barra covariance matrix for the last day of your in sample period and compute the new optimal weights.\n",
    "\n",
    "### Instructions\n",
    "\n",
    "- Use the `sf_quant.data.construct_covariance_matrix` function to pull the covariance matrix for the last market date of the in sample period.\n",
    "- Compute the optimal weights of your portfolio using this new covariance matrix.\n",
    "- Hint: since the Barra covariance matrix is annualized, you will need to multiply your returns forecast by 252."
   ]
  },
  {
   "cell_type": "code",
   "execution_count": null,
   "id": "4c8b356c",
   "metadata": {},
   "outputs": [],
   "source": [
    "def task_barra_optimizer_weights(returns: pl.DataFrame) -> pl.DataFrame:\n",
    "    \"\"\" \n",
    "    Compute the optimal weights of the portfolio given the expected returns forecast and the barra covariance matrix forecast.\n",
    "    Make sure to use the sf_quant package.\n",
    "\n",
    "    Args:\n",
    "        returns (pl.DataFrame): a data frame containing date, ticker, and return columns\n",
    "\n",
    "    Returns:\n",
    "        pl.DataFrame: a data frame with columns barrid and weight\n",
    "    \"\"\"\n",
    "    # TODO: Finish function\n",
    "    pass\n",
    "\n",
    "weights_barra = task_barra_optimizer_weights(returns)\n",
    "\n",
    "weights_barra"
   ]
  },
  {
   "cell_type": "markdown",
   "id": "7b1b7ebe",
   "metadata": {},
   "source": [
    "## Performance Analysis\n",
    "\n",
    "Now that we've got the Barra optimal weights, let's see how they perform compared to our out of sample baseline.\n",
    "\n",
    "### Instructions\n",
    "1. Compute the optimized barra returns for the `out_of_sample` period by computing the weighted return of the portfolio for each period using our optimal weights.\n",
    "2. Plot the cumulative returns of each strategy in one chart.\n",
    "3. Compute the total return, average daily return (annualized), volatility (annualized), and sharpe ratio (annualized) for both strategies.\n",
    "4. Go back and try a handful of different `gamma` values in your optimizer and see how your performance results change.\n",
    "5. Write a few sentences commenting on the results."
   ]
  },
  {
   "cell_type": "code",
   "execution_count": null,
   "id": "5edd45be",
   "metadata": {},
   "outputs": [],
   "source": [
    "def optimized_barra_returns_task(returns: pl.DataFrame, weights_barra: pl.DataFrame) -> pl.DataFrame:\n",
    "    \"\"\"\n",
    "    Compute the average daily return of each asset for the out_of_sample period.\n",
    "\n",
    "    Args:\n",
    "        returns (pl.DataFrame): a data frame containing date, ticker, and return columns\n",
    "        weights_barra (pl.DataFrame): a data frame with columns ticker and weight\n",
    "\n",
    "    Returns:\n",
    "        pl.DataFrame: a data frame containing date, return, and cumulative_return columns\n",
    "    \"\"\"\n",
    "    # TODO: Finish function\n",
    "    pass\n",
    "\n",
    "optimized_returns_barra = optimized_barra_returns_task(returns, weights_barra)\n",
    "\n",
    "optimized_returns_barra"
   ]
  },
  {
   "cell_type": "code",
   "execution_count": null,
   "id": "d4d0751f",
   "metadata": {},
   "outputs": [],
   "source": [
    "# TODO: Chart the baseline and optimized cumulative returns"
   ]
  },
  {
   "cell_type": "code",
   "execution_count": null,
   "id": "474a7e75",
   "metadata": {},
   "outputs": [],
   "source": [
    "# TODO: Compute the total_return, average_return, volatility, and sharpe for the baseline and optimized strategies"
   ]
  },
  {
   "cell_type": "markdown",
   "id": "4a8b98b6",
   "metadata": {},
   "source": [
    "Comment here on the results that you have found."
   ]
  },
  {
   "cell_type": "code",
   "execution_count": null,
   "id": "19d591ec",
   "metadata": {},
   "outputs": [],
   "source": []
  }
 ],
 "metadata": {
  "kernelspec": {
   "display_name": "sf-quant-labs (3.11.10)",
   "language": "python",
   "name": "python3"
  },
  "language_info": {
   "codemirror_mode": {
    "name": "ipython",
    "version": 3
   },
   "file_extension": ".py",
   "mimetype": "text/x-python",
   "name": "python",
   "nbconvert_exporter": "python",
   "pygments_lexer": "ipython3",
   "version": "3.11.10"
  }
 },
 "nbformat": 4,
 "nbformat_minor": 5
}
