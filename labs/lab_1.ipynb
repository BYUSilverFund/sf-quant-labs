{
 "cells": [
  {
   "cell_type": "markdown",
   "id": "9c96f31a",
   "metadata": {},
   "source": [
    "# Lab 1: Silver Fund Quant Data Module and Returns\n",
    "\n",
    "In this lab we will:\n",
    "- Explore how to pull data from the Silver Fund Quant data module.\n",
    "- Demonstrate the different properties of returns."
   ]
  },
  {
   "cell_type": "markdown",
   "id": "0a980b29",
   "metadata": {},
   "source": [
    "## Setup\n",
    "\n",
    "In order to have a smooth experience with this lab do the following:\n",
    "\n",
    "### 1. Log into the Fulton Super Computer.\n",
    "\n",
    "In order to log into you must have an account at [https://rc.byu.edu/](https://rc.byu.edu/) and be added to the `grp_quant` group by Brian Boyer.\n",
    "\n",
    "It can take some time to get approved so make sure to create an account and reach out to Brian promptly.\n",
    "\n",
    "### 2. Clone this repo to the desired location (I prefer to have a `Projects` folder where I keep all of my repositories).\n",
    "\n",
    "Clone the repo by running\n",
    "```bash\n",
    "git clone https://github.com/BYUSilverFund/sf-quant-labs.git\n",
    "```\n",
    "\n",
    "### 3. Install `uv` (Package Manager)\n",
    "\n",
    "We use `uv` to create and manage virtual environments.\n",
    "\n",
    "To install `uv` run\n",
    "\n",
    "```bash\n",
    "curl -LsSf https://astral.sh/uv/install.sh | sh\n",
    "```\n",
    "\n",
    "Check that `uv` is installed by running\n",
    "\n",
    "```bash\n",
    "uv --version\n",
    "```\n",
    "\n",
    "If this returns an error you might need to add uv to your path. Run:\n",
    "\n",
    "```bash\n",
    "source $HOME/.local/bin/env\n",
    "```\n",
    "\n",
    "Restart your terminal for the changes to take effect.\n",
    "\n",
    "### 4. Create a Virtual Environment\n",
    "\n",
    "The virtual environment will make it so that we have consistent package and Python versions across all devices.\n",
    "\n",
    "With `uv` it is really easy to create a virtual environment with synced dependencies.\n",
    "\n",
    "Just run\n",
    "\n",
    "```bash\n",
    "uv sync\n",
    "```\n",
    "\n",
    "Activate the environment by running\n",
    "\n",
    "``` bash\n",
    "source .venv/bin/activate\n",
    "```"
   ]
  },
  {
   "cell_type": "markdown",
   "id": "46266d32",
   "metadata": {},
   "source": [
    "## Imports\n",
    "\n",
    "With all of the setup out of the way we will import the necessary Python packages for the lab.\n",
    "\n",
    "- `sf_quant`: Silver Fund Quant Team package that includes modules for loading data, optimizing portfolios, backtesting, and analyzing performance.\n",
    "- `datetime`: Native Python library for creating Python `date` types.\n",
    "- `polars`: Data frame library similar to Pandas but with a much cleaner API and 100x speed ups."
   ]
  },
  {
   "cell_type": "code",
   "execution_count": null,
   "id": "1e509698",
   "metadata": {},
   "outputs": [],
   "source": [
    "import sf_quant as sf\n",
    "import polars as pl\n",
    "import datetime as dt"
   ]
  },
  {
   "cell_type": "markdown",
   "id": "ce7e2772",
   "metadata": {},
   "source": [
    "## Data\n",
    "\n",
    "Use the following code to pull data for our investment universe from 2024-01-01 to 2024-12-31."
   ]
  },
  {
   "cell_type": "code",
   "execution_count": null,
   "id": "df5bc083",
   "metadata": {},
   "outputs": [],
   "source": [
    "start = # TODO: create 2024-01-01 using the datetime library\n",
    "end =  # TODO: create 2024-12-31 using the datetime library\n",
    "\n",
    "columns = [\n",
    "    'date',\n",
    "    'barrid',\n",
    "    # TODO: Add any other columns we will need for our analysis\n",
    "    # NOTE: You can view all available columns by running sf.data.get_assets_columns() in another cell\n",
    "]\n",
    "\n",
    "df = sf.data.load_assets(\n",
    "    start=start,\n",
    "    end=end,\n",
    "    in_universe=True,\n",
    "    columns=columns\n",
    ")\n",
    "\n",
    "df"
   ]
  },
  {
   "cell_type": "markdown",
   "id": "03fca7cd",
   "metadata": {},
   "source": [
    "## Log returns\n",
    "\n",
    "### Instructions\n",
    "1. Compute the log returns for each asset.\n",
    "2. Compute the cummulative log returns for each asset.\n",
    "3. Run the assertion cell to make sure you're results are correct.\n",
    "\n",
    "Make sure to sort prior to computing time series metrics and use `.over()` apply the computation in groups.\n",
    "\n",
    "Log returns have the nice property of being additive. Use this to your advantage!"
   ]
  },
  {
   "cell_type": "code",
   "execution_count": null,
   "id": "325acff5",
   "metadata": {},
   "outputs": [],
   "source": [
    "def task_compute_log_returns(df: pl.DataFrame) -> pl.DataFrame:\n",
    "    \"\"\"\n",
    "    Compute the log returns for each security and date combo.\n",
    "\n",
    "    Args:\n",
    "        df (pl.DataFrame): Data frame containing columns date, barrid, and return\n",
    "\n",
    "    Returns:\n",
    "        pl.DataFrame: Data frame containing columns date, barrid, return, and log_return\n",
    "    \"\"\"\n",
    "\n",
    "    # TODO: Finish this function\n",
    "\n",
    "    pass\n",
    "\n",
    "df_log = task_compute_log_returns(df)\n",
    "\n",
    "df_log"
   ]
  },
  {
   "cell_type": "code",
   "execution_count": null,
   "id": "84ca93d1",
   "metadata": {},
   "outputs": [],
   "source": [
    "def task_compute_cumulative_log_returns(df_log: pl.DataFrame) -> pl.DataFrame:\n",
    "    \"\"\"\n",
    "    Compute the cummulative log returns for each security and date combo.\n",
    "\n",
    "    Args:\n",
    "        df_log (pl.DataFrame): Data frame containing columns date, barrid, return, and log_return\n",
    "\n",
    "    Returns:\n",
    "        pl.DataFrame: Data frame containing columns date, barrid, return, log_return, and cumulative_log_return\n",
    "    \"\"\"\n",
    "\n",
    "    # TODO: Finish this function\n",
    "\n",
    "    pass\n",
    "\n",
    "df_cum_log = task_compute_cumulative_log_returns(df_log)\n",
    "\n",
    "df_cum_log"
   ]
  },
  {
   "cell_type": "code",
   "execution_count": null,
   "id": "b478070e",
   "metadata": {},
   "outputs": [],
   "source": [
    "assert df_cum_log['cumulative_log_return'].max() == 2.8475532093020557"
   ]
  },
  {
   "cell_type": "markdown",
   "id": "8215914b",
   "metadata": {},
   "source": [
    "## Compounded Returns\n",
    "\n",
    "### Instructions\n",
    "\n",
    "1. Compute the cumulative compounded returns for each asset.\n",
    "2. Run the assertion to check that your results are correct."
   ]
  },
  {
   "cell_type": "code",
   "execution_count": null,
   "id": "13bd8e94",
   "metadata": {},
   "outputs": [],
   "source": [
    "def task_compute_cumulative_compounded_returns(df_cum_log: pl.DataFrame) -> pl.DataFrame:\n",
    "    \"\"\"\n",
    "    Compute the cumulative compounded returns for each security.\n",
    "\n",
    "    Args:\n",
    "        df_cum_log (pl.DataFrame): Data frame containing columns date, barrid, return, log_return, and cumulative_log_return\n",
    "\n",
    "    Returns:\n",
    "        pl.DataFrame: Data frame containing columns date, barrid, return, log_return, cumulative_log_return, and cumulative_compouned_return\n",
    "    \"\"\"\n",
    "\n",
    "    # TODO: Finish this function\n",
    "\n",
    "    pass\n",
    "\n",
    "df_cum_comp = task_compute_cumulative_compounded_returns(df_cum_log)\n",
    "\n",
    "df_cum_comp"
   ]
  },
  {
   "cell_type": "code",
   "execution_count": null,
   "id": "dbbfe073",
   "metadata": {},
   "outputs": [],
   "source": [
    "assert df_cum_comp['cumulative_compounded_return'].max() == 16.245533963705515"
   ]
  },
  {
   "cell_type": "markdown",
   "id": "f29e5907",
   "metadata": {},
   "source": [
    "## Exponentiation\n",
    "\n",
    "Note that the max cumulative log return is different from the cumulative compounded return.\n",
    "\n",
    "Why is that?\n",
    "\n",
    "The answer is that the cumulative log return is still in log space!\n",
    "\n",
    "### Instructions\n",
    "\n",
    "1. Exponentiate the cumulative log returns to put them back into the original space.\n",
    "2. Check that the exponentiated returns match the cumulative compounded returns."
   ]
  },
  {
   "cell_type": "code",
   "execution_count": null,
   "id": "22518ecd",
   "metadata": {},
   "outputs": [],
   "source": [
    "def task_exponentiate_returns(df_cum_comp: pl.DataFrame) -> pl.DataFrame:\n",
    "    \"\"\"\n",
    "    Exponentiate the cumulative log returns.\n",
    "\n",
    "    Args:\n",
    "        df_cum_comp: Data frame containing date, barrid, return, log_return, cumulative_log_return, and cumulative_compouned_return.\n",
    "\n",
    "    Returns:\n",
    "        pl.DataFrame: Data frame containing all previous columns plus exponentiated_returns\n",
    "    \"\"\"\n",
    "\n",
    "    # TODO: Finish this function\n",
    "\n",
    "    pass\n",
    "\n",
    "df_exp = task_exponentiate_returns(df_cum_comp)\n",
    "\n",
    "df_exp"
   ]
  },
  {
   "cell_type": "code",
   "execution_count": null,
   "id": "3f01babb",
   "metadata": {},
   "outputs": [],
   "source": [
    "assert df_exp['cumulative_compounded_return'].max() == df_exp['exponentiated_return'].max()"
   ]
  },
  {
   "cell_type": "code",
   "execution_count": null,
   "id": "e013c6f9",
   "metadata": {},
   "outputs": [],
   "source": []
  }
 ],
 "metadata": {
  "kernelspec": {
   "display_name": "sf-quant-labs (3.11.10)",
   "language": "python",
   "name": "python3"
  },
  "language_info": {
   "codemirror_mode": {
    "name": "ipython",
    "version": 3
   },
   "file_extension": ".py",
   "mimetype": "text/x-python",
   "name": "python",
   "nbconvert_exporter": "python",
   "pygments_lexer": "ipython3",
   "version": "3.11.10"
  }
 },
 "nbformat": 4,
 "nbformat_minor": 5
}
