{
 "cells": [
  {
   "cell_type": "code",
   "execution_count": 1,
   "id": "1e509698",
   "metadata": {},
   "outputs": [],
   "source": [
    "import sf_quant as sf\n",
    "import polars as pl\n",
    "import datetime as dt"
   ]
  },
  {
   "cell_type": "code",
   "execution_count": 2,
   "id": "df5bc083",
   "metadata": {},
   "outputs": [
    {
     "data": {
      "text/html": [
       "<div><style>\n",
       ".dataframe > thead > tr,\n",
       ".dataframe > tbody > tr {\n",
       "  text-align: right;\n",
       "  white-space: pre-wrap;\n",
       "}\n",
       "</style>\n",
       "<small>shape: (739_726, 5)</small><table border=\"1\" class=\"dataframe\"><thead><tr><th>date</th><th>barrid</th><th>ticker</th><th>price</th><th>return</th></tr><tr><td>date</td><td>str</td><td>str</td><td>f64</td><td>f64</td></tr></thead><tbody><tr><td>2024-01-02</td><td>&quot;USA06Z1&quot;</td><td>&quot;MDXG&quot;</td><td>7.87</td><td>-10.2623</td></tr><tr><td>2024-01-03</td><td>&quot;USA06Z1&quot;</td><td>&quot;MDXG&quot;</td><td>7.775</td><td>-1.2071</td></tr><tr><td>2024-01-04</td><td>&quot;USA06Z1&quot;</td><td>&quot;MDXG&quot;</td><td>7.76</td><td>-0.1929</td></tr><tr><td>2024-01-05</td><td>&quot;USA06Z1&quot;</td><td>&quot;MDXG&quot;</td><td>7.8</td><td>0.5155</td></tr><tr><td>2024-01-08</td><td>&quot;USA06Z1&quot;</td><td>&quot;MDXG&quot;</td><td>8.22</td><td>5.3846</td></tr><tr><td>&hellip;</td><td>&hellip;</td><td>&hellip;</td><td>&hellip;</td><td>&hellip;</td></tr><tr><td>2024-12-24</td><td>&quot;USBQOR1&quot;</td><td>&quot;ECG&quot;</td><td>70.58</td><td>2.5872</td></tr><tr><td>2024-12-26</td><td>&quot;USBQOR1&quot;</td><td>&quot;ECG&quot;</td><td>73.61</td><td>4.293</td></tr><tr><td>2024-12-27</td><td>&quot;USBQOR1&quot;</td><td>&quot;ECG&quot;</td><td>69.85</td><td>-5.108</td></tr><tr><td>2024-12-30</td><td>&quot;USBQOR1&quot;</td><td>&quot;ECG&quot;</td><td>66.87</td><td>-4.2663</td></tr><tr><td>2024-12-31</td><td>&quot;USBQOR1&quot;</td><td>&quot;ECG&quot;</td><td>65.75</td><td>-1.6749</td></tr></tbody></table></div>"
      ],
      "text/plain": [
       "shape: (739_726, 5)\n",
       "┌────────────┬─────────┬────────┬───────┬──────────┐\n",
       "│ date       ┆ barrid  ┆ ticker ┆ price ┆ return   │\n",
       "│ ---        ┆ ---     ┆ ---    ┆ ---   ┆ ---      │\n",
       "│ date       ┆ str     ┆ str    ┆ f64   ┆ f64      │\n",
       "╞════════════╪═════════╪════════╪═══════╪══════════╡\n",
       "│ 2024-01-02 ┆ USA06Z1 ┆ MDXG   ┆ 7.87  ┆ -10.2623 │\n",
       "│ 2024-01-03 ┆ USA06Z1 ┆ MDXG   ┆ 7.775 ┆ -1.2071  │\n",
       "│ 2024-01-04 ┆ USA06Z1 ┆ MDXG   ┆ 7.76  ┆ -0.1929  │\n",
       "│ 2024-01-05 ┆ USA06Z1 ┆ MDXG   ┆ 7.8   ┆ 0.5155   │\n",
       "│ 2024-01-08 ┆ USA06Z1 ┆ MDXG   ┆ 8.22  ┆ 5.3846   │\n",
       "│ …          ┆ …       ┆ …      ┆ …     ┆ …        │\n",
       "│ 2024-12-24 ┆ USBQOR1 ┆ ECG    ┆ 70.58 ┆ 2.5872   │\n",
       "│ 2024-12-26 ┆ USBQOR1 ┆ ECG    ┆ 73.61 ┆ 4.293    │\n",
       "│ 2024-12-27 ┆ USBQOR1 ┆ ECG    ┆ 69.85 ┆ -5.108   │\n",
       "│ 2024-12-30 ┆ USBQOR1 ┆ ECG    ┆ 66.87 ┆ -4.2663  │\n",
       "│ 2024-12-31 ┆ USBQOR1 ┆ ECG    ┆ 65.75 ┆ -1.6749  │\n",
       "└────────────┴─────────┴────────┴───────┴──────────┘"
      ]
     },
     "execution_count": 2,
     "metadata": {},
     "output_type": "execute_result"
    }
   ],
   "source": [
    "start = dt.date(2024, 1, 1)\n",
    "end = dt.date(2024, 12, 31)\n",
    "\n",
    "columns = [\n",
    "    'date',\n",
    "    'barrid',\n",
    "    'ticker',\n",
    "    'price',\n",
    "    'return'\n",
    "]\n",
    "\n",
    "df = sf.data.assets.load(\n",
    "    start=start,\n",
    "    end=end,\n",
    "    in_universe=True,\n",
    "    columns=columns\n",
    ")\n",
    "\n",
    "df"
   ]
  },
  {
   "cell_type": "code",
   "execution_count": null,
   "id": "325acff5",
   "metadata": {},
   "outputs": [],
   "source": []
  }
 ],
 "metadata": {
  "kernelspec": {
   "display_name": "sf-quant-labs (3.11.10)",
   "language": "python",
   "name": "python3"
  },
  "language_info": {
   "codemirror_mode": {
    "name": "ipython",
    "version": 3
   },
   "file_extension": ".py",
   "mimetype": "text/x-python",
   "name": "python",
   "nbconvert_exporter": "python",
   "pygments_lexer": "ipython3",
   "version": "3.11.10"
  }
 },
 "nbformat": 4,
 "nbformat_minor": 5
}
